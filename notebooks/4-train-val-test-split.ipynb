{
 "cells": [
  {
   "cell_type": "markdown",
   "id": "0c8f1cc7",
   "metadata": {},
   "source": [
    "# Dataset split\n",
    "\n",
    "In this notebook, we perform the following operations:\n",
    "\n",
    "1. Perform train-val-test split on the processed data in data/interim\n",
    "2. Create setting 1 with all data\n",
    "3. Create setting 2 with X:1 data with X>1 as the number of elements from label 0 images\n",
    "\n",
    "In order to perform all these operations it is **required** do to run the previous notebooks by number convention."
   ]
  },
  {
   "cell_type": "code",
   "execution_count": 1,
   "id": "f4848714",
   "metadata": {},
   "outputs": [
    {
     "name": "stderr",
     "output_type": "stream",
     "text": [
      "\u001b[32m2025-08-05 15:05:07.761\u001b[0m | \u001b[1mINFO    \u001b[0m | \u001b[36membryo_project.config\u001b[0m:\u001b[36m<module>\u001b[0m:\u001b[36m11\u001b[0m - \u001b[1mPROJ_ROOT path is: C:\\Users\\Molinari\\Desktop\\embryo-project\u001b[0m\n"
     ]
    }
   ],
   "source": [
    "import re, shutil\n",
    "\n",
    "import pandas as pd\n",
    "import numpy as np\n",
    "import matplotlib.pyplot as plt\n",
    "\n",
    "from loguru import logger\n",
    "from pathlib import Path\n",
    "from embryo_project.config import INTERIM_DATA_DIR, PROCESSED_DATA_DIR, ANNOTATIONS_FILE, FIGURES_DIR\n",
    "from sklearn.model_selection import train_test_split"
   ]
  },
  {
   "cell_type": "code",
   "execution_count": 2,
   "id": "14dfc56f",
   "metadata": {},
   "outputs": [],
   "source": [
    "df = pd.read_csv(ANNOTATIONS_FILE, sep='\\t')"
   ]
  },
  {
   "cell_type": "code",
   "execution_count": 3,
   "id": "d0afe60f",
   "metadata": {},
   "outputs": [],
   "source": [
    "all_folders = sorted([f for f in INTERIM_DATA_DIR.iterdir() if f.is_dir()])\n",
    "\n",
    "# For stratification purposes we use folder and label\n",
    "folder_labels = df.drop_duplicates(subset='folder')[['folder', 'label']]\n",
    "folder_labels = folder_labels[folder_labels['folder'].isin([f.name for f in all_folders])]\n",
    "\n",
    "# Stratified split\n",
    "train_folders, temp_folders = train_test_split(\n",
    "    folder_labels, test_size=0.30, stratify=folder_labels['label'], random_state=42\n",
    ")\n",
    "val_folders, test_folders = train_test_split(\n",
    "    temp_folders, test_size=0.50, stratify=temp_folders['label'], random_state=42\n",
    ")\n",
    "\n",
    "def copy_folders(folders_df, split_name):\n",
    "    dest_dir = PROCESSED_DATA_DIR / split_name\n",
    "    dest_dir.mkdir(parents=True, exist_ok=True)\n",
    "\n",
    "    for _, row in folders_df.iterrows():\n",
    "        folder_name = row['folder']\n",
    "        src = INTERIM_DATA_DIR / folder_name\n",
    "        dst = dest_dir / folder_name\n",
    "        if dst.exists():\n",
    "            shutil.rmtree(dst)\n",
    "        shutil.copytree(src, dst)\n",
    "\n",
    "copy_folders(train_folders, \"train\")\n",
    "copy_folders(val_folders, \"val\")\n",
    "copy_folders(test_folders, \"test\")"
   ]
  },
  {
   "cell_type": "code",
   "execution_count": 4,
   "id": "ebaae413",
   "metadata": {},
   "outputs": [
    {
     "data": {
      "image/png": "[encoded data removed]",
      "text/plain": [
       "<Figure size 640x480 with 1 Axes>"
      ]
     },
     "metadata": {},
     "output_type": "display_data"
    }
   ],
   "source": [
    "splits = {'train': train_folders, 'val': val_folders, 'test': test_folders}\n",
    "counts = {}\n",
    "\n",
    "for name, df_split in splits.items():\n",
    "    counts[name] = df_split['label'].value_counts().sort_index()\n",
    "\n",
    "labels = sorted(set(train_folders['label'].unique()) |\n",
    "                set(val_folders['label'].unique()) |\n",
    "                set(test_folders['label'].unique()))\n",
    "x = range(len(labels))\n",
    "\n",
    "bar_width = 0.25\n",
    "fig, ax = plt.subplots()\n",
    "\n",
    "for i, (split_name, count_series) in enumerate(counts.items()):\n",
    "    y = [count_series.get(label, 0) for label in labels]\n",
    "    x_shifted = [p + i * bar_width for p in x]\n",
    "    bars = ax.bar(x_shifted, y, width=bar_width, label=split_name)\n",
    "\n",
    "    for bar in bars:\n",
    "        height = bar.get_height()\n",
    "        if height > 0:\n",
    "            ax.text(\n",
    "                bar.get_x() + bar.get_width() / 2,\n",
    "                height + 0.5,\n",
    "                f'{int(height)}',\n",
    "                ha='center',\n",
    "                va='bottom',\n",
    "                fontsize=9\n",
    "            )\n",
    "\n",
    "ax.set_xticks([p + bar_width for p in x])\n",
    "ax.set_xticklabels(labels)\n",
    "ax.set_xlabel(\"Label\")\n",
    "ax.set_ylabel(\"Number of folders\")\n",
    "ax.set_title(\"Label distribution per split\")\n",
    "ax.legend()\n",
    "plt.tight_layout()\n",
    "plt.savefig(FIGURES_DIR / \"4a-label-distrivbution-split.png\")\n",
    "plt.show()"
   ]
  },
  {
   "cell_type": "code",
   "execution_count": 5,
   "id": "b3535304",
   "metadata": {},
   "outputs": [
    {
     "name": "stdout",
     "output_type": "stream",
     "text": [
      "Data distribution:\n",
      "label\n",
      "0    61\n",
      "1    41\n",
      "Name: count, dtype: int64\n"
     ]
    }
   ],
   "source": [
    "df_yes = train_folders[train_folders['label'] == 1]\n",
    "df_no = train_folders[train_folders['label'] == 0]\n",
    "\n",
    "n_yes = len(df_yes)\n",
    "n_no = int(np.floor(n_yes * 1.5))\n",
    "\n",
    "df_no_sampled = df_no.sample(n=n_no, random_state=42)\n",
    "balanced_df = pd.concat([df_yes, df_no_sampled]).sample(frac=1, random_state=42).reset_index(drop=True)\n",
    "\n",
    "print(\"Data distribution:\")\n",
    "print(balanced_df['label'].value_counts())"
   ]
  },
  {
   "cell_type": "code",
   "execution_count": 6,
   "id": "edae27d8",
   "metadata": {},
   "outputs": [],
   "source": [
    "bal_path = PROCESSED_DATA_DIR / \"train_balanced\"\n",
    "bal_path.mkdir(parents=True, exist_ok=True)\n",
    "\n",
    "for folder_name in balanced_df['folder']:\n",
    "    src_path = INTERIM_DATA_DIR / folder_name\n",
    "    dst_path = bal_path / folder_name\n",
    "\n",
    "    if src_path.exists():\n",
    "        if dst_path.exists():\n",
    "            shutil.rmtree(dst_path)\n",
    "        shutil.copytree(src_path, dst_path)\n",
    "    else:\n",
    "        logger.warning(f\"Source folder {src_path} does not exist\")"
   ]
  }
 ],
 "metadata": {
  "kernelspec": {
   "display_name": ".venv",
   "language": "python",
   "name": "python3"
  },
  "language_info": {
   "codemirror_mode": {
    "name": "ipython",
    "version": 3
   },
   "file_extension": ".py",
   "mimetype": "text/x-python",
   "name": "python",
   "nbconvert_exporter": "python",
   "pygments_lexer": "ipython3",
   "version": "3.13.5"
  }
 },
 "nbformat": 4,
 "nbformat_minor": 5
}
