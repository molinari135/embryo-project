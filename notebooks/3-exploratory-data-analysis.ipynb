{
 "cells": [
  {
   "cell_type": "markdown",
   "id": "38ffb4db",
   "metadata": {},
   "source": [
    "# Exploratory Data Analysis (EDA) ([#3](https://github.com/molinari135/embryo-project/issues/3))\n",
    "\n",
    "In this notebook, we perform the following operations:\n",
    "\n",
    "1. Rename all columns in english\n",
    "2. Remove all rows that have `NaN` in folder field\n",
    "3. Remove columns that will not be used\n",
    "4. Change the label using 0s and 1s instead of strings\n",
    "5. Convert the original file in `.tsv`\n",
    "\n",
    "In order to perform all these operations it is **required** do to run the previous notebooks by number convention."
   ]
  },
  {
   "cell_type": "code",
   "execution_count": 8,
   "id": "31edd24e",
   "metadata": {},
   "outputs": [],
   "source": [
    "import re\n",
    "import pandas as pd\n",
    "import seaborn as sns\n",
    "import matplotlib.pyplot as plt\n",
    "\n",
    "from pathlib import Path\n",
    "from loguru import logger\n",
    "from embryo_project.config import PROCESSED_DATA_DIR, FIGURES_DIR, ANNOTATIONS_FILE"
   ]
  },
  {
   "cell_type": "code",
   "execution_count": 9,
   "id": "cbeb0df2",
   "metadata": {},
   "outputs": [
    {
     "data": {
      "text/html": [
       "<div>\n",
       "<style scoped>\n",
       "    .dataframe tbody tr th:only-of-type {\n",
       "        vertical-align: middle;\n",
       "    }\n",
       "\n",
       "    .dataframe tbody tr th {\n",
       "        vertical-align: top;\n",
       "    }\n",
       "\n",
       "    .dataframe thead th {\n",
       "        text-align: right;\n",
       "    }\n",
       "</style>\n",
       "<table border=\"1\" class=\"dataframe\">\n",
       "  <thead>\n",
       "    <tr style=\"text-align: right;\">\n",
       "      <th></th>\n",
       "      <th>folder</th>\n",
       "      <th>label</th>\n",
       "      <th>image</th>\n",
       "    </tr>\n",
       "  </thead>\n",
       "  <tbody>\n",
       "    <tr>\n",
       "      <th>0</th>\n",
       "      <td>D2020.10.07_S00020_I4203_P_WELL01</td>\n",
       "      <td>0</td>\n",
       "      <td>D2020.10.07_S00020_I4203_P_WELL01_RUN361</td>\n",
       "    </tr>\n",
       "    <tr>\n",
       "      <th>1</th>\n",
       "      <td>D2020.10.07_S00020_I4203_P_WELL02</td>\n",
       "      <td>0</td>\n",
       "      <td>D2020.10.07_S00020_I4203_P_WELL02_RUN104</td>\n",
       "    </tr>\n",
       "    <tr>\n",
       "      <th>2</th>\n",
       "      <td>D2020.10.07_S00020_I4203_P_WELL03</td>\n",
       "      <td>0</td>\n",
       "      <td>D2020.10.07_S00020_I4203_P_WELL03_RUN296</td>\n",
       "    </tr>\n",
       "    <tr>\n",
       "      <th>3</th>\n",
       "      <td>D2020.10.07_S00020_I4203_P_WELL04</td>\n",
       "      <td>0</td>\n",
       "      <td>D2020.10.07_S00020_I4203_P_WELL04_RUN198</td>\n",
       "    </tr>\n",
       "    <tr>\n",
       "      <th>4</th>\n",
       "      <td>D2020.10.07_S00020_I4203_P_WELL05</td>\n",
       "      <td>0</td>\n",
       "      <td>D2020.10.07_S00020_I4203_P_WELL05_RUN156</td>\n",
       "    </tr>\n",
       "  </tbody>\n",
       "</table>\n",
       "</div>"
      ],
      "text/plain": [
       "                              folder  label  \\\n",
       "0  D2020.10.07_S00020_I4203_P_WELL01      0   \n",
       "1  D2020.10.07_S00020_I4203_P_WELL02      0   \n",
       "2  D2020.10.07_S00020_I4203_P_WELL03      0   \n",
       "3  D2020.10.07_S00020_I4203_P_WELL04      0   \n",
       "4  D2020.10.07_S00020_I4203_P_WELL05      0   \n",
       "\n",
       "                                      image  \n",
       "0  D2020.10.07_S00020_I4203_P_WELL01_RUN361  \n",
       "1  D2020.10.07_S00020_I4203_P_WELL02_RUN104  \n",
       "2  D2020.10.07_S00020_I4203_P_WELL03_RUN296  \n",
       "3  D2020.10.07_S00020_I4203_P_WELL04_RUN198  \n",
       "4  D2020.10.07_S00020_I4203_P_WELL05_RUN156  "
      ]
     },
     "execution_count": 9,
     "metadata": {},
     "output_type": "execute_result"
    }
   ],
   "source": [
    "file_path = Path(ANNOTATIONS_FILE)\n",
    "df = pd.read_csv(file_path, sep=\"\\t\")\n",
    "df.head()"
   ]
  },
  {
   "cell_type": "code",
   "execution_count": 10,
   "id": "e35b0938",
   "metadata": {},
   "outputs": [
    {
     "name": "stdout",
     "output_type": "stream",
     "text": [
      "label\n",
      "0    94.064386\n",
      "1     5.935614\n",
      "Name: proportion, dtype: float64\n"
     ]
    },
    {
     "data": {
      "image/png": "[encoded data removed]",
      "text/plain": [
       "<Figure size 640x480 with 1 Axes>"
      ]
     },
     "metadata": {},
     "output_type": "display_data"
    }
   ],
   "source": [
    "print(df['label'].value_counts(normalize=True) * 100)\n",
    "\n",
    "sns.countplot(data=df, x='label')\n",
    "plt.title('Data distribution')\n",
    "plt.xticks(ticks=[0, 1], labels=['no', 'yes'])\n",
    "plt.xlabel('Label')\n",
    "plt.ylabel('Folders')\n",
    "plt.savefig(FIGURES_DIR / \"3a-label-distribution.png\")\n",
    "plt.show()"
   ]
  },
  {
   "cell_type": "markdown",
   "id": "8761e673",
   "metadata": {},
   "source": [
    "- `D2020.10.07_S00023_I4203_P_WELL16` was empty in the original dataset\n",
    "- `D2020.10.28_S00032` does not exists\n",
    "- `D2021.06.16_S00057` does not exists\n",
    "- `D2022.09.07_S00152_I4203_P_WELL11` was empty in the original dataset"
   ]
  },
  {
   "cell_type": "code",
   "execution_count": 11,
   "id": "029393c9",
   "metadata": {},
   "outputs": [
    {
     "name": "stdout",
     "output_type": "stream",
     "text": [
      "Images with label 1: 312\n",
      "Images with label 0: 19569\n"
     ]
    }
   ],
   "source": [
    "def extract_run_number(filename):\n",
    "    match = re.search(r'_RUN(\\d+)', filename)\n",
    "    return int(match.group(1)) if match else -1\n",
    "\n",
    "label_1_count = 0\n",
    "label_0_count = 0\n",
    "\n",
    "for folder_name in df['folder'].unique():\n",
    "    folder_path = PROCESSED_DATA_DIR / folder_name\n",
    "    if not folder_path.exists():\n",
    "        continue\n",
    "\n",
    "    image_files = sorted(folder_path.glob(\"*.JPG\"), key=lambda x: extract_run_number(x.name))\n",
    "    if not image_files:\n",
    "        continue\n",
    "\n",
    "    folder_df = df[df['folder'] == folder_name]\n",
    "\n",
    "    # Take all images with label 1, if any\n",
    "    labeled_1_images = folder_df[folder_df['label'] == 1]['image'].dropna().tolist()\n",
    "    # Take all images with label 0, if any\n",
    "    labeled_0_images = folder_df[folder_df['label'] == 0]['image'].dropna().tolist()\n",
    "\n",
    "    if labeled_1_images:\n",
    "        min_run = min(extract_run_number(img) for img in labeled_1_images)\n",
    "        label_type = 1\n",
    "    elif labeled_0_images:\n",
    "        min_run = min(extract_run_number(img) for img in labeled_0_images)\n",
    "        label_type = 0\n",
    "    else:\n",
    "        # No label is considered as label 0\n",
    "        label_0_count += len(image_files)\n",
    "        continue\n",
    "\n",
    "    for img in image_files:\n",
    "        run_num = extract_run_number(img.name)\n",
    "        if run_num >= min_run:\n",
    "            if label_type == 1:\n",
    "                label_1_count += 1\n",
    "            else:\n",
    "                label_0_count += 1\n",
    "        else:\n",
    "            label_0_count += 1  # Images before the decisive one\n",
    "\n",
    "print(f\"Images with label 1: {label_1_count}\")\n",
    "print(f\"Images with label 0: {label_0_count}\")"
   ]
  }
 ],
 "metadata": {
  "kernelspec": {
   "display_name": ".venv",
   "language": "python",
   "name": "python3"
  },
  "language_info": {
   "codemirror_mode": {
    "name": "ipython",
    "version": 3
   },
   "file_extension": ".py",
   "mimetype": "text/x-python",
   "name": "python",
   "nbconvert_exporter": "python",
   "pygments_lexer": "ipython3",
   "version": "3.13.5"
  }
 },
 "nbformat": 4,
 "nbformat_minor": 5
}
