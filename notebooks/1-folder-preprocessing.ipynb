{
 "cells": [
  {
   "cell_type": "markdown",
   "id": "132cf046",
   "metadata": {},
   "source": [
    "# Data preprocessing ([#2](https://github.com/molinari135/embryo-project/issues/2))"
   ]
  },
  {
   "cell_type": "code",
   "execution_count": 1,
   "id": "4f07cef5",
   "metadata": {},
   "outputs": [
    {
     "name": "stderr",
     "output_type": "stream",
     "text": [
      "\u001b[32m2025-08-01 17:09:10.785\u001b[0m | \u001b[1mINFO    \u001b[0m | \u001b[36membryo_project.config\u001b[0m:\u001b[36m<module>\u001b[0m:\u001b[36m11\u001b[0m - \u001b[1mPROJ_ROOT path is: C:\\Users\\Molinari\\Desktop\\embryo-project\u001b[0m\n"
     ]
    }
   ],
   "source": [
    "import re\n",
    "import shutil\n",
    "\n",
    "from pathlib import Path\n",
    "from embryo_project.config import RAW_DATA_DIR"
   ]
  },
  {
   "cell_type": "code",
   "execution_count": null,
   "id": "d0ebc625",
   "metadata": {},
   "outputs": [],
   "source": [
    "# Change this path with the dataset folder\n",
    "DATASET_DIR = Path(r\"C:/Users/Molinari/Desktop/Embrioni project/Dataset_campionato/Dataset_campionato - Copia\")\n",
    "RAW_DATA_DIR.mkdir(parents=True, exist_ok=True)"
   ]
  },
  {
   "cell_type": "code",
   "execution_count": null,
   "id": "3b4f730c",
   "metadata": {},
   "outputs": [
    {
     "name": "stdout",
     "output_type": "stream",
     "text": [
      "Total number of folders founded: 1166\n",
      "Copied folders: 1150\n",
      "Conflicts (already copied): 16\n"
     ]
    }
   ],
   "source": [
    "# Automatically extract all D202X folders from DATASET_DIR\n",
    "folder_pattern = re.compile(r'^D202[0-3]')\n",
    "well_folder_pattern = re.compile(r'^D202[0-3].*WELL\\d{1,2}')\n",
    "\n",
    "found = 0\n",
    "copied = 0\n",
    "conflicts = 0\n",
    "\n",
    "# Needed for those folders with long names\n",
    "def to_long_path(path: Path) -> str:\n",
    "    return r\"\\\\?\\{}\".format(str(path.resolve()))\n",
    "\n",
    "for folder in DATASET_DIR.rglob(\"*\"):\n",
    "    if folder.is_dir() and well_folder_pattern.match(folder.name):\n",
    "        found += 1\n",
    "        destination = RAW_DATA_DIR / folder.name\n",
    "\n",
    "        if not destination.exists():\n",
    "            shutil.copytree(to_long_path(folder), to_long_path(destination))\n",
    "            copied += 1\n",
    "        else:\n",
    "            conflicts += 1\n",
    "\n",
    "print(f\"Total number of folders founded: {found}\")\n",
    "print(f\"Copied folders: {copied}\")\n",
    "print(f\"Conflicts (already copied): {conflicts}\")\n"
   ]
  },
  {
   "cell_type": "markdown",
   "id": "f1fc0b5c",
   "metadata": {},
   "source": [
    "Every folder follows this pattern:\n",
    "\n",
    "- `D[YEAR.MONTH.DAY]`\n",
    "- `S[CODE]`\n",
    "- `I[CODE]`\n",
    "- `P` or `D`\n",
    "- `WELL[CODE]`\n",
    "\n",
    "Between every information, an underscore (`_`) or a whitespace (` `) can be found. Sometimes, folders have also an additional string `CAMPIONATO`, `CAMPIONATO_ok` `CAMPIONATO - Copia ([NUMBER])`.\n",
    "\n",
    "Some examples:\n",
    "- `DXXXX.XX.XX_SXXXXX_IXXXX_P_WELLXX_CAMPIONATO`\n",
    "- `DXXXX.XX.XX_SXXXXX_IXXXX_P_WELLXX_CAMPIONATO_ok`\n",
    "- `DXXXX.XX.XX_SXXXXX_IXXXX_P_WELLXX_CAMPIONATO - Copia (4)`\n",
    "- `DXXXX.XX.XX_SXXXXX_IXXXX_P_WELLXX - CAMPIONATO`\n",
    "- `DXXXX.XX.XX_SXXXXX_IXXXX_P_WELLXX`"
   ]
  },
  {
   "cell_type": "code",
   "execution_count": null,
   "id": "8458409c",
   "metadata": {},
   "outputs": [
    {
     "name": "stdout",
     "output_type": "stream",
     "text": [
      "Warning: C:\\Users\\Molinari\\Desktop\\embryo-project\\data\\raw\\D2020.09.30_S00018_I4203_P_WELL01 already exists.\n",
      "Warning: C:\\Users\\Molinari\\Desktop\\embryo-project\\data\\raw\\D2022.03.02_S00116_I4203_P_WELL01 already exists.\n",
      "Warning: C:\\Users\\Molinari\\Desktop\\embryo-project\\data\\raw\\D2022.04.06_S00131_I4203_P_WELL01 already exists.\n",
      "Warning: C:\\Users\\Molinari\\Desktop\\embryo-project\\data\\raw\\D2022.04.06_S00131_I4203_P_WELL01 already exists.\n",
      "Warning: C:\\Users\\Molinari\\Desktop\\embryo-project\\data\\raw\\D2022.04.06_S00131_I4203_P_WELL01 already exists.\n",
      "Warning: C:\\Users\\Molinari\\Desktop\\embryo-project\\data\\raw\\D2022.04.06_S00131_I4203_P_WELL01 already exists.\n",
      "Warning: C:\\Users\\Molinari\\Desktop\\embryo-project\\data\\raw\\D2022.04.06_S00131_I4203_P_WELL01 already exists.\n",
      "Warning: C:\\Users\\Molinari\\Desktop\\embryo-project\\data\\raw\\D2022.04.06_S00131_I4203_P_WELL01 already exists.\n",
      "Warning: C:\\Users\\Molinari\\Desktop\\embryo-project\\data\\raw\\D2022.04.06_S00131_I4203_P_WELL01 already exists.\n",
      "Warning: C:\\Users\\Molinari\\Desktop\\embryo-project\\data\\raw\\D2022.04.06_S00131_I4203_P_WELL01 already exists.\n",
      "Warning: C:\\Users\\Molinari\\Desktop\\embryo-project\\data\\raw\\D2022.04.06_S00131_I4203_P_WELL01 already exists.\n",
      "Warning: C:\\Users\\Molinari\\Desktop\\embryo-project\\data\\raw\\D2023.03.15_S00179_I4203_P_WELL01 already exists.\n",
      "Total folders: 1151\n",
      "Matched: 1150, Renamed: 932\n"
     ]
    }
   ],
   "source": [
    "# Rename folders according to a common pattern\n",
    "pattern = r'^(.*?WELL\\d{1,2})'\n",
    "\n",
    "pattern_matched = 0\n",
    "renamed_folders = 0\n",
    "\n",
    "for folderpath in RAW_DATA_DIR.iterdir():\n",
    "    if not folderpath.is_dir():\n",
    "        continue\n",
    "\n",
    "    relative_str = str(folderpath.relative_to(RAW_DATA_DIR))\n",
    "    match = re.match(pattern, relative_str)\n",
    "    \n",
    "    if match:\n",
    "        cleaned_name = match.group(1)\n",
    "        new_path = folderpath.parent / cleaned_name\n",
    "\n",
    "        if folderpath.name != cleaned_name:\n",
    "            # Rename only if names differ\n",
    "            if not new_path.exists():\n",
    "                folderpath.rename(new_path)\n",
    "                renamed_folders += 1\n",
    "            else:\n",
    "                print(f\"Warning: {new_path} already exists.\")\n",
    "        \n",
    "        pattern_matched += 1\n",
    "    else:\n",
    "        print(f\"No match for {relative_str}\")\n",
    "\n",
    "print(f\"Total folders: {len(list(RAW_DATA_DIR.iterdir()))}\")\n",
    "print(f\"Matched: {pattern_matched}, Renamed: {renamed_folders}\")"
   ]
  },
  {
   "cell_type": "code",
   "execution_count": null,
   "id": "cc765b8c",
   "metadata": {},
   "outputs": [
    {
     "name": "stdout",
     "output_type": "stream",
     "text": [
      "Deleted empty folder: D2020.09.30_S00018_I4203_P_WELL01_CAMPIONATO - Copia (4)\n",
      "Deleted empty folder: D2020.10.07_S00023_I4203_P_WELL16\n",
      "Deleted empty folder: D2021.10.20_S00083_I4203_P_WELL12\n",
      "Deleted empty folder: D2021.10.20_S00083_I4203_P_WELL13\n",
      "Deleted empty folder: D2021.10.20_S00083_I4203_P_WELL14\n",
      "Deleted empty folder: D2021.10.20_S00083_I4203_P_WELL15\n",
      "Deleted empty folder: D2021.11.10_S00084_I4203_P_WELL13\n",
      "Deleted empty folder: D2021.11.10_S00084_I4203_P_WELL14\n",
      "Deleted empty folder: D2021.11.10_S00084_I4203_P_WELL15\n",
      "Deleted empty folder: D2021.11.10_S00084_I4203_P_WELL16\n",
      "Deleted empty folder: D2022.04.06_S00131_I4203_P_WELL01\n",
      "Deleted empty folder: D2022.04.06_S00131_I4203_P_WELL01_CAMPIONATO - Copia\n",
      "Deleted empty folder: D2022.04.06_S00131_I4203_P_WELL01_CAMPIONATO - Copia (2)\n",
      "Deleted empty folder: D2022.04.06_S00131_I4203_P_WELL01_CAMPIONATO - Copia (3)\n",
      "Deleted empty folder: D2022.04.06_S00131_I4203_P_WELL01_CAMPIONATO - Copia (4)\n",
      "Deleted empty folder: D2022.04.06_S00131_I4203_P_WELL01_CAMPIONATO - Copia (5)\n",
      "Deleted empty folder: D2022.04.06_S00131_I4203_P_WELL01_CAMPIONATO - Copia (6)\n",
      "Deleted empty folder: D2022.04.06_S00131_I4203_P_WELL01_CAMPIONATO - Copia (7)\n",
      "Deleted empty folder: D2022.04.06_S00131_I4203_P_WELL01_CAMPIONATO - Copia (8)\n",
      "Deleted empty folder: D2022.04.06_S00131_I4203_P_WELL01_CAMPIONATO - Copia (9)\n",
      "Deleted empty folder: D2022.08.17_S00149_I4203_P_WELL02\n",
      "Deleted empty folder: D2022.08.17_S00149_I4203_P_WELL03\n",
      "Deleted empty folder: D2022.08.17_S00149_I4203_P_WELL04\n",
      "Deleted empty folder: D2022.08.17_S00149_I4203_P_WELL05\n",
      "Deleted empty folder: D2022.08.17_S00149_I4203_P_WELL06\n",
      "Deleted empty folder: D2022.08.17_S00149_I4203_P_WELL07\n",
      "Deleted empty folder: D2022.08.17_S00149_I4203_P_WELL08\n",
      "Deleted empty folder: D2022.08.17_S00149_I4203_P_WELL09\n",
      "Deleted empty folder: D2022.08.17_S00149_I4203_P_WELL10\n",
      "Deleted empty folder: D2022.08.17_S00149_I4203_P_WELL11\n",
      "Deleted empty folder: D2022.08.17_S00149_I4203_P_WELL12\n",
      "Deleted empty folder: D2022.08.17_S00149_I4203_P_WELL13\n",
      "Deleted empty folder: D2022.08.17_S00149_I4203_P_WELL14\n",
      "Deleted empty folder: D2022.08.17_S00149_I4203_P_WELL15\n",
      "Deleted empty folder: D2022.08.17_S00149_I4203_P_WELL16\n",
      "Deleted empty folder: D2022.09.07_S00152_I4203_P_WELL11\n",
      "Deleted empty folder: D2023.03.15_S00179_I4203_P_WELL01_CAMPIONATO - Copia (16)\n",
      "Deleted empty folder: D2023.03.15_S00179_I4203_P_WELL08\n",
      "Deleted empty folder: D2023.03.15_S00179_I4203_P_WELL09\n",
      "Deleted empty folder: D2023.03.15_S00179_I4203_P_WELL10\n",
      "Deleted empty folder: D2023.03.15_S00179_I4203_P_WELL11\n",
      "Deleted empty folder: D2023.03.15_S00179_I4203_P_WELL12\n",
      "Deleted empty folder: D2023.03.15_S00179_I4203_P_WELL13\n",
      "Deleted empty folder: D2023.03.15_S00179_I4203_P_WELL14\n",
      "Deleted empty folder: D2023.03.15_S00179_I4203_P_WELL15\n",
      "Deleted empty folder: D2023.03.15_S00179_I4203_P_WELL16\n",
      "Deleted empty folder: D2023.09.06_S00200_I4203_P_WELL01\n",
      "Total deleted folders: 47\n"
     ]
    }
   ],
   "source": [
    "# Delete empty folders\n",
    "empty_deleted = 0\n",
    "\n",
    "for folder in RAW_DATA_DIR.iterdir():\n",
    "    if folder.is_dir() and not any(folder.iterdir()):\n",
    "        folder.rmdir()\n",
    "        empty_deleted += 1\n",
    "        print(f\"Deleted empty folder: {folder.name}\")\n",
    "\n",
    "print(f\"Total deleted folders: {empty_deleted}\")"
   ]
  },
  {
   "cell_type": "code",
   "execution_count": null,
   "id": "a1bed5f0",
   "metadata": {},
   "outputs": [
    {
     "name": "stdout",
     "output_type": "stream",
     "text": [
      "Renamed: D2022.03.02_S00116_I4203_P_WELL01 → D2022.03.02_S00116_I4203_P_WELL10\n",
      "Renamed: D2022.03.02_S00116_I4203_P_WELL01_CAMPIONATO → D2022.03.02_S00116_I4203_P_WELL01\n"
     ]
    }
   ],
   "source": [
    "# Fix specific folder issue\n",
    "old_to_new = {\n",
    "    \"D2022.03.02_S00116_I4203_P_WELL01\": \"D2022.03.02_S00116_I4203_P_WELL10\",\n",
    "    \"D2022.03.02_S00116_I4203_P_WELL01_CAMPIONATO\": \"D2022.03.02_S00116_I4203_P_WELL01\"\n",
    "}\n",
    "\n",
    "for old_name, new_name in old_to_new.items():\n",
    "    old_path = RAW_DATA_DIR / old_name\n",
    "    new_path = RAW_DATA_DIR / new_name\n",
    "\n",
    "    if old_path.exists():\n",
    "        if not new_path.exists():\n",
    "            old_path.rename(new_path)\n",
    "            print(f\"Renamed: {old_name} -> {new_name}\")\n",
    "        else:\n",
    "            print(f\"Warning: {new_name} already exists.\")\n",
    "    else:\n",
    "        print(f\"Folder not found: {old_name}\")"
   ]
  },
  {
   "cell_type": "code",
   "execution_count": 6,
   "id": "b25b4a58",
   "metadata": {},
   "outputs": [
    {
     "name": "stdout",
     "output_type": "stream",
     "text": [
      "Total number of folders: 1103\n"
     ]
    }
   ],
   "source": [
    "path = Path(RAW_DATA_DIR)\n",
    "folders = [p for p in path.iterdir() if p.is_dir()]\n",
    "print(f\"Total number of folders: {len(folders)}\")"
   ]
  }
 ],
 "metadata": {
  "kernelspec": {
   "display_name": ".venv",
   "language": "python",
   "name": "python3"
  },
  "language_info": {
   "codemirror_mode": {
    "name": "ipython",
    "version": 3
   },
   "file_extension": ".py",
   "mimetype": "text/x-python",
   "name": "python",
   "nbconvert_exporter": "python",
   "pygments_lexer": "ipython3",
   "version": "3.13.5"
  }
 },
 "nbformat": 4,
 "nbformat_minor": 5
}
