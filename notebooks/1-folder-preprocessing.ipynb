{
 "cells": [
  {
   "cell_type": "markdown",
   "id": "132cf046",
   "metadata": {},
   "source": [
    "# Data preprocessing ([#2](https://github.com/molinari135/embryo-project/issues/2))\n",
    "\n",
    "In this notebook, we perform the following operations:\n",
    "\n",
    "1. Extract D202X folders from data/raw directory into data/processed\n",
    "2. Remove empty extracted folders in data/processed\n",
    "3. Fix folder name issue in data/processed\n",
    "4. Rename extracted folders in data/processed\n",
    "\n",
    "In order to perform all these operations it is **required** do to put in data/raw directory the folders that will be processed."
   ]
  },
  {
   "cell_type": "code",
   "execution_count": 1,
   "id": "4f07cef5",
   "metadata": {},
   "outputs": [
    {
     "name": "stderr",
     "output_type": "stream",
     "text": [
      "\u001b[32m2025-08-05 09:43:55.847\u001b[0m | \u001b[1mINFO    \u001b[0m | \u001b[36membryo_project.config\u001b[0m:\u001b[36m<module>\u001b[0m:\u001b[36m11\u001b[0m - \u001b[1mPROJ_ROOT path is: C:\\Users\\Molinari\\Desktop\\embryo-project\u001b[0m\n"
     ]
    }
   ],
   "source": [
    "import re, shutil\n",
    "\n",
    "from pathlib import Path\n",
    "from loguru import logger\n",
    "from embryo_project.config import RAW_DATA_DIR, PROCESSED_DATA_DIR, INTERIM_DATA_DIR"
   ]
  },
  {
   "cell_type": "code",
   "execution_count": 2,
   "id": "d0ebc625",
   "metadata": {},
   "outputs": [],
   "source": [
    "# If needed, change folders path in embryo_project/config.py file\n",
    "INTERIM_DATA_DIR.mkdir(parents=True, exist_ok=True)\n",
    "# Remove everything from data/processed\n",
    "# [shutil.rmtree(f) for f in PROCESSED_DATA_DIR.iterdir() if f.is_dir()]"
   ]
  },
  {
   "cell_type": "code",
   "execution_count": 3,
   "id": "08255726",
   "metadata": {},
   "outputs": [
    {
     "name": "stdout",
     "output_type": "stream",
     "text": [
      "\u001b[32m2025-08-05 09:43:56.453\u001b[0m | \u001b[1mINFO    \u001b[0m | \u001b[36m__main__\u001b[0m:\u001b[36m<module>\u001b[0m:\u001b[36m12\u001b[0m - \u001b[1mMoving C:\\Users\\Molinari\\Desktop\\embryo-project\\data\\interim\\tmp\\D2022.08.17_S00149_I4203_P_WELL01_CAMPIONATO_tmp\\D2022.08.17_S00149_I4203_P_WELL01_CAMPIONATO -> C:\\Users\\Molinari\\Desktop\\embryo-project\\data\\interim\\D2022.08.17_S00149_I4203_P_WELL01_CAMPIONATO\u001b[0m\n",
      "\u001b[32m2025-08-05 09:43:56.455\u001b[0m | \u001b[1mINFO    \u001b[0m | \u001b[36m__main__\u001b[0m:\u001b[36m<module>\u001b[0m:\u001b[36m12\u001b[0m - \u001b[1mMoving C:\\Users\\Molinari\\Desktop\\embryo-project\\data\\interim\\tmp\\D2022.08.17_S00149_I4203_P_WELL01_CAMPIONATO_tmp\\D2022.08.17_S00149_I4203_P_WELL02_CAMPIONATO -> C:\\Users\\Molinari\\Desktop\\embryo-project\\data\\interim\\D2022.08.17_S00149_I4203_P_WELL02_CAMPIONATO\u001b[0m\n",
      "\u001b[32m2025-08-05 09:43:56.456\u001b[0m | \u001b[1mINFO    \u001b[0m | \u001b[36m__main__\u001b[0m:\u001b[36m<module>\u001b[0m:\u001b[36m12\u001b[0m - \u001b[1mMoving C:\\Users\\Molinari\\Desktop\\embryo-project\\data\\interim\\tmp\\D2022.08.17_S00149_I4203_P_WELL01_CAMPIONATO_tmp\\D2022.08.17_S00149_I4203_P_WELL03_CAMPIONATO -> C:\\Users\\Molinari\\Desktop\\embryo-project\\data\\interim\\D2022.08.17_S00149_I4203_P_WELL03_CAMPIONATO\u001b[0m\n",
      "\u001b[32m2025-08-05 09:43:56.457\u001b[0m | \u001b[1mINFO    \u001b[0m | \u001b[36m__main__\u001b[0m:\u001b[36m<module>\u001b[0m:\u001b[36m12\u001b[0m - \u001b[1mMoving C:\\Users\\Molinari\\Desktop\\embryo-project\\data\\interim\\tmp\\D2022.08.17_S00149_I4203_P_WELL01_CAMPIONATO_tmp\\D2022.08.17_S00149_I4203_P_WELL04_CAMPIONATO -> C:\\Users\\Molinari\\Desktop\\embryo-project\\data\\interim\\D2022.08.17_S00149_I4203_P_WELL04_CAMPIONATO\u001b[0m\n",
      "\u001b[32m2025-08-05 09:43:56.457\u001b[0m | \u001b[1mINFO    \u001b[0m | \u001b[36m__main__\u001b[0m:\u001b[36m<module>\u001b[0m:\u001b[36m12\u001b[0m - \u001b[1mMoving C:\\Users\\Molinari\\Desktop\\embryo-project\\data\\interim\\tmp\\D2022.08.17_S00149_I4203_P_WELL01_CAMPIONATO_tmp\\D2022.08.17_S00149_I4203_P_WELL05_CAMPIONATO -> C:\\Users\\Molinari\\Desktop\\embryo-project\\data\\interim\\D2022.08.17_S00149_I4203_P_WELL05_CAMPIONATO\u001b[0m\n",
      "\u001b[32m2025-08-05 09:43:56.458\u001b[0m | \u001b[1mINFO    \u001b[0m | \u001b[36m__main__\u001b[0m:\u001b[36m<module>\u001b[0m:\u001b[36m12\u001b[0m - \u001b[1mMoving C:\\Users\\Molinari\\Desktop\\embryo-project\\data\\interim\\tmp\\D2022.08.17_S00149_I4203_P_WELL01_CAMPIONATO_tmp\\D2022.08.17_S00149_I4203_P_WELL06_CAMPIONATO -> C:\\Users\\Molinari\\Desktop\\embryo-project\\data\\interim\\D2022.08.17_S00149_I4203_P_WELL06_CAMPIONATO\u001b[0m\n",
      "\u001b[32m2025-08-05 09:43:56.458\u001b[0m | \u001b[1mINFO    \u001b[0m | \u001b[36m__main__\u001b[0m:\u001b[36m<module>\u001b[0m:\u001b[36m12\u001b[0m - \u001b[1mMoving C:\\Users\\Molinari\\Desktop\\embryo-project\\data\\interim\\tmp\\D2022.08.17_S00149_I4203_P_WELL01_CAMPIONATO_tmp\\D2022.08.17_S00149_I4203_P_WELL07_CAMPIONATO -> C:\\Users\\Molinari\\Desktop\\embryo-project\\data\\interim\\D2022.08.17_S00149_I4203_P_WELL07_CAMPIONATO\u001b[0m\n",
      "\u001b[32m2025-08-05 09:43:56.459\u001b[0m | \u001b[1mINFO    \u001b[0m | \u001b[36m__main__\u001b[0m:\u001b[36m<module>\u001b[0m:\u001b[36m12\u001b[0m - \u001b[1mMoving C:\\Users\\Molinari\\Desktop\\embryo-project\\data\\interim\\tmp\\D2022.08.17_S00149_I4203_P_WELL01_CAMPIONATO_tmp\\D2022.08.17_S00149_I4203_P_WELL08_CAMPIONATO -> C:\\Users\\Molinari\\Desktop\\embryo-project\\data\\interim\\D2022.08.17_S00149_I4203_P_WELL08_CAMPIONATO\u001b[0m\n",
      "\u001b[32m2025-08-05 09:43:56.459\u001b[0m | \u001b[1mINFO    \u001b[0m | \u001b[36m__main__\u001b[0m:\u001b[36m<module>\u001b[0m:\u001b[36m12\u001b[0m - \u001b[1mMoving C:\\Users\\Molinari\\Desktop\\embryo-project\\data\\interim\\tmp\\D2022.08.17_S00149_I4203_P_WELL01_CAMPIONATO_tmp\\D2022.08.17_S00149_I4203_P_WELL09_CAMPIONATO -> C:\\Users\\Molinari\\Desktop\\embryo-project\\data\\interim\\D2022.08.17_S00149_I4203_P_WELL09_CAMPIONATO\u001b[0m\n",
      "\u001b[32m2025-08-05 09:43:56.460\u001b[0m | \u001b[1mINFO    \u001b[0m | \u001b[36m__main__\u001b[0m:\u001b[36m<module>\u001b[0m:\u001b[36m12\u001b[0m - \u001b[1mMoving C:\\Users\\Molinari\\Desktop\\embryo-project\\data\\interim\\tmp\\D2022.08.17_S00149_I4203_P_WELL01_CAMPIONATO_tmp\\D2022.08.17_S00149_I4203_P_WELL10_CAMPIONATO -> C:\\Users\\Molinari\\Desktop\\embryo-project\\data\\interim\\D2022.08.17_S00149_I4203_P_WELL10_CAMPIONATO\u001b[0m\n",
      "\u001b[32m2025-08-05 09:43:56.461\u001b[0m | \u001b[1mINFO    \u001b[0m | \u001b[36m__main__\u001b[0m:\u001b[36m<module>\u001b[0m:\u001b[36m12\u001b[0m - \u001b[1mMoving C:\\Users\\Molinari\\Desktop\\embryo-project\\data\\interim\\tmp\\D2022.08.17_S00149_I4203_P_WELL01_CAMPIONATO_tmp\\D2022.08.17_S00149_I4203_P_WELL11_CAMPIONATO -> C:\\Users\\Molinari\\Desktop\\embryo-project\\data\\interim\\D2022.08.17_S00149_I4203_P_WELL11_CAMPIONATO\u001b[0m\n",
      "\u001b[32m2025-08-05 09:43:56.461\u001b[0m | \u001b[1mINFO    \u001b[0m | \u001b[36m__main__\u001b[0m:\u001b[36m<module>\u001b[0m:\u001b[36m12\u001b[0m - \u001b[1mMoving C:\\Users\\Molinari\\Desktop\\embryo-project\\data\\interim\\tmp\\D2022.08.17_S00149_I4203_P_WELL01_CAMPIONATO_tmp\\D2022.08.17_S00149_I4203_P_WELL12_CAMPIONATO -> C:\\Users\\Molinari\\Desktop\\embryo-project\\data\\interim\\D2022.08.17_S00149_I4203_P_WELL12_CAMPIONATO\u001b[0m\n",
      "\u001b[32m2025-08-05 09:43:56.462\u001b[0m | \u001b[1mINFO    \u001b[0m | \u001b[36m__main__\u001b[0m:\u001b[36m<module>\u001b[0m:\u001b[36m12\u001b[0m - \u001b[1mMoving C:\\Users\\Molinari\\Desktop\\embryo-project\\data\\interim\\tmp\\D2022.08.17_S00149_I4203_P_WELL01_CAMPIONATO_tmp\\D2022.08.17_S00149_I4203_P_WELL13_CAMPIONATO -> C:\\Users\\Molinari\\Desktop\\embryo-project\\data\\interim\\D2022.08.17_S00149_I4203_P_WELL13_CAMPIONATO\u001b[0m\n",
      "\u001b[32m2025-08-05 09:43:56.463\u001b[0m | \u001b[1mINFO    \u001b[0m | \u001b[36m__main__\u001b[0m:\u001b[36m<module>\u001b[0m:\u001b[36m12\u001b[0m - \u001b[1mMoving C:\\Users\\Molinari\\Desktop\\embryo-project\\data\\interim\\tmp\\D2022.08.17_S00149_I4203_P_WELL01_CAMPIONATO_tmp\\D2022.08.17_S00149_I4203_P_WELL14_CAMPIONATO -> C:\\Users\\Molinari\\Desktop\\embryo-project\\data\\interim\\D2022.08.17_S00149_I4203_P_WELL14_CAMPIONATO\u001b[0m\n",
      "\u001b[32m2025-08-05 09:43:56.463\u001b[0m | \u001b[1mINFO    \u001b[0m | \u001b[36m__main__\u001b[0m:\u001b[36m<module>\u001b[0m:\u001b[36m12\u001b[0m - \u001b[1mMoving C:\\Users\\Molinari\\Desktop\\embryo-project\\data\\interim\\tmp\\D2022.08.17_S00149_I4203_P_WELL01_CAMPIONATO_tmp\\D2022.08.17_S00149_I4203_P_WELL15_CAMPIONATO -> C:\\Users\\Molinari\\Desktop\\embryo-project\\data\\interim\\D2022.08.17_S00149_I4203_P_WELL15_CAMPIONATO\u001b[0m\n",
      "\u001b[32m2025-08-05 09:43:56.464\u001b[0m | \u001b[1mINFO    \u001b[0m | \u001b[36m__main__\u001b[0m:\u001b[36m<module>\u001b[0m:\u001b[36m12\u001b[0m - \u001b[1mMoving C:\\Users\\Molinari\\Desktop\\embryo-project\\data\\interim\\tmp\\D2022.08.17_S00149_I4203_P_WELL01_CAMPIONATO_tmp\\D2022.08.17_S00149_I4203_P_WELL16_CAMPIONATO -> C:\\Users\\Molinari\\Desktop\\embryo-project\\data\\interim\\D2022.08.17_S00149_I4203_P_WELL16_CAMPIONATO\u001b[0m\n"
     ]
    }
   ],
   "source": [
    "bad_folder = RAW_DATA_DIR / Path(\"2022_CAMPIONATO/17.08.2022_CAMPIONATO/D2022.08.17_S00149_I4203_P_WELL01_CAMPIONATO\")\n",
    "work_dir = INTERIM_DATA_DIR / \"tmp\" # copy the folder in data/interim to not change the original files\n",
    "\n",
    "work_dir.mkdir(parents=True, exist_ok=True)\n",
    "\n",
    "tmp_folder = work_dir / (bad_folder.name + \"_tmp\")\n",
    "shutil.copytree(bad_folder, tmp_folder)\n",
    "\n",
    "for subfolder in tmp_folder.iterdir():\n",
    "    if subfolder.is_dir():\n",
    "        destination = INTERIM_DATA_DIR / subfolder.name\n",
    "        logger.info(f\"Moving {subfolder} -> {destination}\")\n",
    "        shutil.move(str(subfolder), str(destination))\n",
    "\n",
    "shutil.rmtree(tmp_folder)"
   ]
  },
  {
   "cell_type": "code",
   "execution_count": 4,
   "id": "3b4f730c",
   "metadata": {},
   "outputs": [
    {
     "name": "stdout",
     "output_type": "stream",
     "text": [
      "\u001b[32m2025-08-05 09:44:12.144\u001b[0m | \u001b[1mINFO    \u001b[0m | \u001b[36m__main__\u001b[0m:\u001b[36m<module>\u001b[0m:\u001b[36m24\u001b[0m - \u001b[1mTotal number of folders founded: 1166\u001b[0m\n",
      "\u001b[32m2025-08-05 09:44:12.144\u001b[0m | \u001b[32m\u001b[1mSUCCESS \u001b[0m | \u001b[36m__main__\u001b[0m:\u001b[36m<module>\u001b[0m:\u001b[36m25\u001b[0m - \u001b[32m\u001b[1mCopied folders: 1134\u001b[0m\n",
      "\u001b[32m2025-08-05 09:44:12.144\u001b[0m | \u001b[33m\u001b[1mWARNING \u001b[0m | \u001b[36m__main__\u001b[0m:\u001b[36m<module>\u001b[0m:\u001b[36m26\u001b[0m - \u001b[33m\u001b[1mConflicts (already copied): 32\u001b[0m\n"
     ]
    }
   ],
   "source": [
    "# Automatically extract all D202X folders from DATASET_DIR\n",
    "folder_pattern = re.compile(r'^D202[0-3]')\n",
    "well_folder_pattern = re.compile(r'^D202[0-3].*WELL\\d{1,2}')\n",
    "\n",
    "found = 0\n",
    "copied = 0\n",
    "conflicts = 0\n",
    "\n",
    "# Needed for those folders with long names\n",
    "def to_long_path(path: Path) -> str:\n",
    "    return r\"\\\\?\\{}\".format(str(path.resolve()))\n",
    "\n",
    "for folder in RAW_DATA_DIR.rglob(\"*\"):\n",
    "    if folder.is_dir() and well_folder_pattern.match(folder.name):\n",
    "        found += 1\n",
    "        destination = INTERIM_DATA_DIR / folder.name\n",
    "\n",
    "        if not destination.exists():\n",
    "            shutil.copytree(to_long_path(folder), to_long_path(destination))\n",
    "            copied += 1\n",
    "        else:\n",
    "            conflicts += 1\n",
    "\n",
    "logger.info(f\"Total number of folders founded: {found}\")\n",
    "logger.success(f\"Copied folders: {copied}\")\n",
    "logger.warning(f\"Conflicts (already copied): {conflicts}\")"
   ]
  },
  {
   "cell_type": "markdown",
   "id": "f1fc0b5c",
   "metadata": {},
   "source": [
    "Every folder follows this pattern:\n",
    "\n",
    "- `D[YEAR.MONTH.DAY]`\n",
    "- `S[CODE]`\n",
    "- `I[CODE]`\n",
    "- `P` or `D`\n",
    "- `WELL[CODE]`\n",
    "\n",
    "Between every information, an underscore (`_`) or a whitespace (` `) can be found. Sometimes, folders have also an additional string `CAMPIONATO`, `CAMPIONATO_ok` `CAMPIONATO - Copia ([NUMBER])`.\n",
    "\n",
    "Some examples:\n",
    "- `DXXXX.XX.XX_SXXXXX_IXXXX_P_WELLXX_CAMPIONATO`\n",
    "- `DXXXX.XX.XX_SXXXXX_IXXXX_P_WELLXX_CAMPIONATO_ok`\n",
    "- `DXXXX.XX.XX_SXXXXX_IXXXX_P_WELLXX_CAMPIONATO - Copia (4)`\n",
    "- `DXXXX.XX.XX_SXXXXX_IXXXX_P_WELLXX - CAMPIONATO`\n",
    "- `DXXXX.XX.XX_SXXXXX_IXXXX_P_WELLXX`"
   ]
  },
  {
   "cell_type": "code",
   "execution_count": 5,
   "id": "cc765b8c",
   "metadata": {},
   "outputs": [
    {
     "name": "stdout",
     "output_type": "stream",
     "text": [
      "\u001b[32m2025-08-05 09:44:12.152\u001b[0m | \u001b[1mINFO    \u001b[0m | \u001b[36m__main__\u001b[0m:\u001b[36m<module>\u001b[0m:\u001b[36m8\u001b[0m - \u001b[1mDeleted empty folder: D2020.09.30_S00018_I4203_P_WELL01_CAMPIONATO - Copia (4)\u001b[0m\n",
      "\u001b[32m2025-08-05 09:44:12.161\u001b[0m | \u001b[1mINFO    \u001b[0m | \u001b[36m__main__\u001b[0m:\u001b[36m<module>\u001b[0m:\u001b[36m8\u001b[0m - \u001b[1mDeleted empty folder: D2020.10.07_S00023_I4203_P_WELL16_CAMPIONATO\u001b[0m\n",
      "\u001b[32m2025-08-05 09:44:12.202\u001b[0m | \u001b[1mINFO    \u001b[0m | \u001b[36m__main__\u001b[0m:\u001b[36m<module>\u001b[0m:\u001b[36m8\u001b[0m - \u001b[1mDeleted empty folder: D2021.10.20_S00083_I4203_P_WELL12\u001b[0m\n",
      "\u001b[32m2025-08-05 09:44:12.203\u001b[0m | \u001b[1mINFO    \u001b[0m | \u001b[36m__main__\u001b[0m:\u001b[36m<module>\u001b[0m:\u001b[36m8\u001b[0m - \u001b[1mDeleted empty folder: D2021.10.20_S00083_I4203_P_WELL13\u001b[0m\n",
      "\u001b[32m2025-08-05 09:44:12.203\u001b[0m | \u001b[1mINFO    \u001b[0m | \u001b[36m__main__\u001b[0m:\u001b[36m<module>\u001b[0m:\u001b[36m8\u001b[0m - \u001b[1mDeleted empty folder: D2021.10.20_S00083_I4203_P_WELL14\u001b[0m\n",
      "\u001b[32m2025-08-05 09:44:12.203\u001b[0m | \u001b[1mINFO    \u001b[0m | \u001b[36m__main__\u001b[0m:\u001b[36m<module>\u001b[0m:\u001b[36m8\u001b[0m - \u001b[1mDeleted empty folder: D2021.10.20_S00083_I4203_P_WELL15\u001b[0m\n",
      "\u001b[32m2025-08-05 09:44:12.205\u001b[0m | \u001b[1mINFO    \u001b[0m | \u001b[36m__main__\u001b[0m:\u001b[36m<module>\u001b[0m:\u001b[36m8\u001b[0m - \u001b[1mDeleted empty folder: D2021.11.10_S00084_I4203_P_WELL13\u001b[0m\n",
      "\u001b[32m2025-08-05 09:44:12.205\u001b[0m | \u001b[1mINFO    \u001b[0m | \u001b[36m__main__\u001b[0m:\u001b[36m<module>\u001b[0m:\u001b[36m8\u001b[0m - \u001b[1mDeleted empty folder: D2021.11.10_S00084_I4203_P_WELL14\u001b[0m\n",
      "\u001b[32m2025-08-05 09:44:12.205\u001b[0m | \u001b[1mINFO    \u001b[0m | \u001b[36m__main__\u001b[0m:\u001b[36m<module>\u001b[0m:\u001b[36m8\u001b[0m - \u001b[1mDeleted empty folder: D2021.11.10_S00084_I4203_P_WELL15\u001b[0m\n",
      "\u001b[32m2025-08-05 09:44:12.206\u001b[0m | \u001b[1mINFO    \u001b[0m | \u001b[36m__main__\u001b[0m:\u001b[36m<module>\u001b[0m:\u001b[36m8\u001b[0m - \u001b[1mDeleted empty folder: D2021.11.10_S00084_I4203_P_WELL16\u001b[0m\n",
      "\u001b[32m2025-08-05 09:44:12.230\u001b[0m | \u001b[1mINFO    \u001b[0m | \u001b[36m__main__\u001b[0m:\u001b[36m<module>\u001b[0m:\u001b[36m8\u001b[0m - \u001b[1mDeleted empty folder: D2022.04.06_S00131_I4203_P_WELL01_CAMPIONATO\u001b[0m\n",
      "\u001b[32m2025-08-05 09:44:12.230\u001b[0m | \u001b[1mINFO    \u001b[0m | \u001b[36m__main__\u001b[0m:\u001b[36m<module>\u001b[0m:\u001b[36m8\u001b[0m - \u001b[1mDeleted empty folder: D2022.04.06_S00131_I4203_P_WELL01_CAMPIONATO - Copia\u001b[0m\n",
      "\u001b[32m2025-08-05 09:44:12.230\u001b[0m | \u001b[1mINFO    \u001b[0m | \u001b[36m__main__\u001b[0m:\u001b[36m<module>\u001b[0m:\u001b[36m8\u001b[0m - \u001b[1mDeleted empty folder: D2022.04.06_S00131_I4203_P_WELL01_CAMPIONATO - Copia (2)\u001b[0m\n",
      "\u001b[32m2025-08-05 09:44:12.231\u001b[0m | \u001b[1mINFO    \u001b[0m | \u001b[36m__main__\u001b[0m:\u001b[36m<module>\u001b[0m:\u001b[36m8\u001b[0m - \u001b[1mDeleted empty folder: D2022.04.06_S00131_I4203_P_WELL01_CAMPIONATO - Copia (3)\u001b[0m\n",
      "\u001b[32m2025-08-05 09:44:12.231\u001b[0m | \u001b[1mINFO    \u001b[0m | \u001b[36m__main__\u001b[0m:\u001b[36m<module>\u001b[0m:\u001b[36m8\u001b[0m - \u001b[1mDeleted empty folder: D2022.04.06_S00131_I4203_P_WELL01_CAMPIONATO - Copia (4)\u001b[0m\n",
      "\u001b[32m2025-08-05 09:44:12.231\u001b[0m | \u001b[1mINFO    \u001b[0m | \u001b[36m__main__\u001b[0m:\u001b[36m<module>\u001b[0m:\u001b[36m8\u001b[0m - \u001b[1mDeleted empty folder: D2022.04.06_S00131_I4203_P_WELL01_CAMPIONATO - Copia (5)\u001b[0m\n",
      "\u001b[32m2025-08-05 09:44:12.231\u001b[0m | \u001b[1mINFO    \u001b[0m | \u001b[36m__main__\u001b[0m:\u001b[36m<module>\u001b[0m:\u001b[36m8\u001b[0m - \u001b[1mDeleted empty folder: D2022.04.06_S00131_I4203_P_WELL01_CAMPIONATO - Copia (6)\u001b[0m\n",
      "\u001b[32m2025-08-05 09:44:12.231\u001b[0m | \u001b[1mINFO    \u001b[0m | \u001b[36m__main__\u001b[0m:\u001b[36m<module>\u001b[0m:\u001b[36m8\u001b[0m - \u001b[1mDeleted empty folder: D2022.04.06_S00131_I4203_P_WELL01_CAMPIONATO - Copia (7)\u001b[0m\n",
      "\u001b[32m2025-08-05 09:44:12.232\u001b[0m | \u001b[1mINFO    \u001b[0m | \u001b[36m__main__\u001b[0m:\u001b[36m<module>\u001b[0m:\u001b[36m8\u001b[0m - \u001b[1mDeleted empty folder: D2022.04.06_S00131_I4203_P_WELL01_CAMPIONATO - Copia (8)\u001b[0m\n",
      "\u001b[32m2025-08-05 09:44:12.232\u001b[0m | \u001b[1mINFO    \u001b[0m | \u001b[36m__main__\u001b[0m:\u001b[36m<module>\u001b[0m:\u001b[36m8\u001b[0m - \u001b[1mDeleted empty folder: D2022.04.06_S00131_I4203_P_WELL01_CAMPIONATO - Copia (9)\u001b[0m\n",
      "\u001b[32m2025-08-05 09:44:12.251\u001b[0m | \u001b[1mINFO    \u001b[0m | \u001b[36m__main__\u001b[0m:\u001b[36m<module>\u001b[0m:\u001b[36m8\u001b[0m - \u001b[1mDeleted empty folder: D2022.09.07_S00152_I4203_P_WELL11_CAMPIONATO\u001b[0m\n",
      "\u001b[32m2025-08-05 09:44:12.278\u001b[0m | \u001b[1mINFO    \u001b[0m | \u001b[36m__main__\u001b[0m:\u001b[36m<module>\u001b[0m:\u001b[36m8\u001b[0m - \u001b[1mDeleted empty folder: D2023.03.15_S00179_I4203_P_WELL01_CAMPIONATO - Copia (16)\u001b[0m\n",
      "\u001b[32m2025-08-05 09:44:12.279\u001b[0m | \u001b[1mINFO    \u001b[0m | \u001b[36m__main__\u001b[0m:\u001b[36m<module>\u001b[0m:\u001b[36m8\u001b[0m - \u001b[1mDeleted empty folder: D2023.03.15_S00179_I4203_P_WELL08_CAMPIONATO\u001b[0m\n",
      "\u001b[32m2025-08-05 09:44:12.279\u001b[0m | \u001b[1mINFO    \u001b[0m | \u001b[36m__main__\u001b[0m:\u001b[36m<module>\u001b[0m:\u001b[36m8\u001b[0m - \u001b[1mDeleted empty folder: D2023.03.15_S00179_I4203_P_WELL09_CAMPIONATO\u001b[0m\n",
      "\u001b[32m2025-08-05 09:44:12.279\u001b[0m | \u001b[1mINFO    \u001b[0m | \u001b[36m__main__\u001b[0m:\u001b[36m<module>\u001b[0m:\u001b[36m8\u001b[0m - \u001b[1mDeleted empty folder: D2023.03.15_S00179_I4203_P_WELL10_CAMPIONATO\u001b[0m\n",
      "\u001b[32m2025-08-05 09:44:12.279\u001b[0m | \u001b[1mINFO    \u001b[0m | \u001b[36m__main__\u001b[0m:\u001b[36m<module>\u001b[0m:\u001b[36m8\u001b[0m - \u001b[1mDeleted empty folder: D2023.03.15_S00179_I4203_P_WELL11_CAMPIONATO\u001b[0m\n",
      "\u001b[32m2025-08-05 09:44:12.280\u001b[0m | \u001b[1mINFO    \u001b[0m | \u001b[36m__main__\u001b[0m:\u001b[36m<module>\u001b[0m:\u001b[36m8\u001b[0m - \u001b[1mDeleted empty folder: D2023.03.15_S00179_I4203_P_WELL12_CAMPIONATO\u001b[0m\n",
      "\u001b[32m2025-08-05 09:44:12.280\u001b[0m | \u001b[1mINFO    \u001b[0m | \u001b[36m__main__\u001b[0m:\u001b[36m<module>\u001b[0m:\u001b[36m8\u001b[0m - \u001b[1mDeleted empty folder: D2023.03.15_S00179_I4203_P_WELL13_CAMPIONATO\u001b[0m\n",
      "\u001b[32m2025-08-05 09:44:12.280\u001b[0m | \u001b[1mINFO    \u001b[0m | \u001b[36m__main__\u001b[0m:\u001b[36m<module>\u001b[0m:\u001b[36m8\u001b[0m - \u001b[1mDeleted empty folder: D2023.03.15_S00179_I4203_P_WELL14_CAMPIONATO\u001b[0m\n",
      "\u001b[32m2025-08-05 09:44:12.280\u001b[0m | \u001b[1mINFO    \u001b[0m | \u001b[36m__main__\u001b[0m:\u001b[36m<module>\u001b[0m:\u001b[36m8\u001b[0m - \u001b[1mDeleted empty folder: D2023.03.15_S00179_I4203_P_WELL15_CAMPIONATO\u001b[0m\n",
      "\u001b[32m2025-08-05 09:44:12.281\u001b[0m | \u001b[1mINFO    \u001b[0m | \u001b[36m__main__\u001b[0m:\u001b[36m<module>\u001b[0m:\u001b[36m8\u001b[0m - \u001b[1mDeleted empty folder: D2023.03.15_S00179_I4203_P_WELL16_CAMPIONATO\u001b[0m\n",
      "\u001b[32m2025-08-05 09:44:12.287\u001b[0m | \u001b[1mINFO    \u001b[0m | \u001b[36m__main__\u001b[0m:\u001b[36m<module>\u001b[0m:\u001b[36m8\u001b[0m - \u001b[1mDeleted empty folder: D2023.09.06_S00200_I4203_P_WELL01_CAMPIONATO\u001b[0m\n",
      "\u001b[32m2025-08-05 09:44:12.288\u001b[0m | \u001b[1mINFO    \u001b[0m | \u001b[36m__main__\u001b[0m:\u001b[36m<module>\u001b[0m:\u001b[36m8\u001b[0m - \u001b[1mDeleted empty folder: tmp\u001b[0m\n",
      "\u001b[32m2025-08-05 09:44:12.289\u001b[0m | \u001b[32m\u001b[1mSUCCESS \u001b[0m | \u001b[36m__main__\u001b[0m:\u001b[36m<module>\u001b[0m:\u001b[36m10\u001b[0m - \u001b[32m\u001b[1mDeleted folders: 33\u001b[0m\n"
     ]
    }
   ],
   "source": [
    "# Delete empty folders\n",
    "empty_deleted = 0\n",
    "\n",
    "for folder in INTERIM_DATA_DIR.iterdir():\n",
    "    if folder.is_dir() and not any(folder.iterdir()):\n",
    "        folder.rmdir()\n",
    "        empty_deleted += 1\n",
    "        logger.info(f\"Deleted empty folder: {folder.name}\")\n",
    "\n",
    "logger.success(f\"Deleted folders: {empty_deleted}\")"
   ]
  },
  {
   "cell_type": "code",
   "execution_count": 6,
   "id": "8458409c",
   "metadata": {},
   "outputs": [
    {
     "name": "stdout",
     "output_type": "stream",
     "text": [
      "\u001b[32m2025-08-05 09:44:12.499\u001b[0m | \u001b[33m\u001b[1mWARNING \u001b[0m | \u001b[36m__main__\u001b[0m:\u001b[36m<module>\u001b[0m:\u001b[36m24\u001b[0m - \u001b[33m\u001b[1mC:\\Users\\Molinari\\Desktop\\embryo-project\\data\\interim\\D2022.03.02_S00116_I4203_P_WELL01 already exists.\u001b[0m\n",
      "\u001b[32m2025-08-05 09:44:12.703\u001b[0m | \u001b[1mINFO    \u001b[0m | \u001b[36m__main__\u001b[0m:\u001b[36m<module>\u001b[0m:\u001b[36m30\u001b[0m - \u001b[1mTotal folders: 1119\u001b[0m\n",
      "\u001b[32m2025-08-05 09:44:12.703\u001b[0m | \u001b[32m\u001b[1mSUCCESS \u001b[0m | \u001b[36m__main__\u001b[0m:\u001b[36m<module>\u001b[0m:\u001b[36m31\u001b[0m - \u001b[32m\u001b[1mMatched: 1118, Renamed: 919\u001b[0m\n"
     ]
    }
   ],
   "source": [
    "# Rename folders according to a common pattern\n",
    "pattern = r'^(.*?WELL\\d{1,2})'\n",
    "\n",
    "pattern_matched = 0\n",
    "renamed_folders = 0\n",
    "\n",
    "for folderpath in INTERIM_DATA_DIR.iterdir():\n",
    "    if not folderpath.is_dir():\n",
    "        continue\n",
    "\n",
    "    relative_str = str(folderpath.relative_to(INTERIM_DATA_DIR))\n",
    "    match = re.match(pattern, relative_str)\n",
    "    \n",
    "    if match:\n",
    "        cleaned_name = match.group(1)\n",
    "        new_path = folderpath.parent / cleaned_name\n",
    "\n",
    "        if folderpath.name != cleaned_name:\n",
    "            # Rename only if names differ\n",
    "            if not new_path.exists():\n",
    "                folderpath.rename(new_path)\n",
    "                renamed_folders += 1\n",
    "            else:\n",
    "                logger.warning(f\"{new_path} already exists.\")\n",
    "        \n",
    "        pattern_matched += 1\n",
    "    else:\n",
    "        logger.warning(f\"No match for {relative_str}\")\n",
    "\n",
    "logger.info(f\"Total folders: {len(list(INTERIM_DATA_DIR.iterdir()))}\")\n",
    "logger.success(f\"Matched: {pattern_matched}, Renamed: {renamed_folders}\")"
   ]
  },
  {
   "cell_type": "code",
   "execution_count": 7,
   "id": "a1bed5f0",
   "metadata": {},
   "outputs": [
    {
     "name": "stdout",
     "output_type": "stream",
     "text": [
      "\u001b[32m2025-08-05 09:44:12.709\u001b[0m | \u001b[32m\u001b[1mSUCCESS \u001b[0m | \u001b[36m__main__\u001b[0m:\u001b[36m<module>\u001b[0m:\u001b[36m14\u001b[0m - \u001b[32m\u001b[1mRenamed: D2022.03.02_S00116_I4203_P_WELL01 -> D2022.03.02_S00116_I4203_P_WELL10\u001b[0m\n",
      "\u001b[32m2025-08-05 09:44:12.710\u001b[0m | \u001b[32m\u001b[1mSUCCESS \u001b[0m | \u001b[36m__main__\u001b[0m:\u001b[36m<module>\u001b[0m:\u001b[36m14\u001b[0m - \u001b[32m\u001b[1mRenamed: D2022.03.02_S00116_I4203_P_WELL01_CAMPIONATO -> D2022.03.02_S00116_I4203_P_WELL01\u001b[0m\n"
     ]
    }
   ],
   "source": [
    "# Fix specific folder issue\n",
    "old_to_new = {\n",
    "    \"D2022.03.02_S00116_I4203_P_WELL01\": \"D2022.03.02_S00116_I4203_P_WELL10\",\n",
    "    \"D2022.03.02_S00116_I4203_P_WELL01_CAMPIONATO\": \"D2022.03.02_S00116_I4203_P_WELL01\"\n",
    "}\n",
    "\n",
    "for old_name, new_name in old_to_new.items():\n",
    "    old_path = INTERIM_DATA_DIR / old_name\n",
    "    new_path = INTERIM_DATA_DIR / new_name\n",
    "\n",
    "    if old_path.exists():\n",
    "        if not new_path.exists():\n",
    "            old_path.rename(new_path)\n",
    "            logger.success(f\"Renamed: {old_name} -> {new_name}\")\n",
    "        else:\n",
    "            logger.warning(f\"{new_name} already exists.\")\n",
    "    else:\n",
    "        logger.warning(f\"Folder not found: {old_name}\")"
   ]
  },
  {
   "cell_type": "code",
   "execution_count": 8,
   "id": "f0885e93",
   "metadata": {},
   "outputs": [
    {
     "name": "stdout",
     "output_type": "stream",
     "text": [
      "\u001b[32m2025-08-05 09:44:12.747\u001b[0m | \u001b[1mINFO    \u001b[0m | \u001b[36m__main__\u001b[0m:\u001b[36m<module>\u001b[0m:\u001b[36m6\u001b[0m - \u001b[1mRenaming: C:\\Users\\Molinari\\Desktop\\embryo-project\\data\\interim\\D2023.09.06_S00200_I4203_P_WELL1 -> C:\\Users\\Molinari\\Desktop\\embryo-project\\data\\interim\\D2023.09.06_S00200_I4203_P_WELL01\u001b[0m\n"
     ]
    }
   ],
   "source": [
    "# Fix folder names that ends with WELL1 instead of WELL01\n",
    "for folder in INTERIM_DATA_DIR.rglob(\"*\"):\n",
    "    if folder.is_dir() and folder.name.endswith(\"WELL1\"):\n",
    "        new_name = folder.name.replace(\"WELL1\", \"WELL01\")\n",
    "        new_path = folder.parent / new_name\n",
    "        logger.info(f\"Renaming: {folder} -> {new_path}\")\n",
    "        folder.rename(new_path)"
   ]
  },
  {
   "cell_type": "code",
   "execution_count": 9,
   "id": "b25b4a58",
   "metadata": {},
   "outputs": [
    {
     "name": "stdout",
     "output_type": "stream",
     "text": [
      "\u001b[32m2025-08-05 09:44:13.588\u001b[0m | \u001b[1mINFO    \u001b[0m | \u001b[36m__main__\u001b[0m:\u001b[36m<module>\u001b[0m:\u001b[36m4\u001b[0m - \u001b[1mTotal number of original folders: 1208\u001b[0m\n",
      "\u001b[32m2025-08-05 09:44:13.588\u001b[0m | \u001b[1mINFO    \u001b[0m | \u001b[36m__main__\u001b[0m:\u001b[36m<module>\u001b[0m:\u001b[36m5\u001b[0m - \u001b[1mTotal number of processed folders: 1118\u001b[0m\n",
      "\u001b[32m2025-08-05 09:44:13.588\u001b[0m | \u001b[1mINFO    \u001b[0m | \u001b[36m__main__\u001b[0m:\u001b[36m<module>\u001b[0m:\u001b[36m6\u001b[0m - \u001b[1m33 out of 90 folders were empty\u001b[0m\n"
     ]
    }
   ],
   "source": [
    "original_folders = [p for p in RAW_DATA_DIR.rglob('*') if p.is_dir()]\n",
    "processed_folders = [p for p in INTERIM_DATA_DIR.iterdir() if p.is_dir()]\n",
    "\n",
    "logger.info(f\"Total number of original folders: {len(original_folders)}\")\n",
    "logger.info(f\"Total number of processed folders: {len(processed_folders)}\")\n",
    "logger.info(f\"{empty_deleted} out of {len(original_folders)-len(processed_folders)} folders were empty\")"
   ]
  }
 ],
 "metadata": {
  "kernelspec": {
   "display_name": ".venv",
   "language": "python",
   "name": "python3"
  },
  "language_info": {
   "codemirror_mode": {
    "name": "ipython",
    "version": 3
   },
   "file_extension": ".py",
   "mimetype": "text/x-python",
   "name": "python",
   "nbconvert_exporter": "python",
   "pygments_lexer": "ipython3",
   "version": "3.13.5"
  }
 },
 "nbformat": 4,
 "nbformat_minor": 5
}
